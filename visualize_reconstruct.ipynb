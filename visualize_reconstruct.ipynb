{
 "cells": [
  {
   "cell_type": "code",
   "execution_count": 19,
   "metadata": {},
   "outputs": [],
   "source": [
    "import os\n",
    "import pandas as pd\n",
    "from rdkit import Chem"
   ]
  },
  {
   "cell_type": "code",
   "execution_count": 6,
   "metadata": {},
   "outputs": [],
   "source": [
    "path = 'output.csv'\n",
    "df = pd.read_csv(path)"
   ]
  },
  {
   "cell_type": "code",
   "execution_count": 15,
   "metadata": {},
   "outputs": [],
   "source": [
    "# create dir to store outputs\n",
    "if not os.path.exists('./output'):\n",
    "    os.mkdir('output')"
   ]
  },
  {
   "cell_type": "code",
   "execution_count": 21,
   "metadata": {},
   "outputs": [],
   "source": [
    "for idx, row in df.iterrows():    \n",
    "    # read mols\n",
    "    row = {k: Chem.MolFromSmiles(x) for k, x in row.items()}\n",
    "    \n",
    "    # create sub-dir\n",
    "    sub_path = 'output/{}'.format(idx)\n",
    "    if not os.path.exists(sub_path):\n",
    "        os.mkdir(sub_path)\n",
    "        \n",
    "    # draw and save to files\n",
    "    for key, mol in row.items():\n",
    "        Chem.Draw.MolToFile(mol, '{}/{}_{}.png'.format(sub_path, key, idx))"
   ]
  },
  {
   "cell_type": "code",
   "execution_count": null,
   "metadata": {},
   "outputs": [],
   "source": []
  }
 ],
 "metadata": {
  "kernelspec": {
   "display_name": "Python 3",
   "language": "python",
   "name": "python3"
  },
  "language_info": {
   "codemirror_mode": {
    "name": "ipython",
    "version": 3
   },
   "file_extension": ".py",
   "mimetype": "text/x-python",
   "name": "python",
   "nbconvert_exporter": "python",
   "pygments_lexer": "ipython3",
   "version": "3.6.13"
  }
 },
 "nbformat": 4,
 "nbformat_minor": 4
}
