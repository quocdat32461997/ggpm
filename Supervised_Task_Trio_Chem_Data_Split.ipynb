{
 "cells": [
  {
   "cell_type": "code",
   "execution_count": 33,
   "id": "4584c8d4",
   "metadata": {},
   "outputs": [],
   "source": [
    "import pandas as pd\n",
    "import os\n",
    "from sklearn.model_selection import train_test_split"
   ]
  },
  {
   "cell_type": "code",
   "execution_count": 21,
   "id": "d1d2bd7e",
   "metadata": {},
   "outputs": [],
   "source": [
    "chem_data = pd.read_csv('data/chem_data/cleaned_data.csv')\n",
    "hopv15 = pd.read_csv('data/hopv15/hopv15.csv')\n",
    "qm9 = pd.read_csv('data/qm9/qm9.csv')"
   ]
  },
  {
   "cell_type": "code",
   "execution_count": 22,
   "id": "24527c6b",
   "metadata": {},
   "outputs": [],
   "source": [
    "invalid_mols = ['[NH2+]=C1O[C-](C=O)C=C1',\n",
    "'[NH2+]=C1NC=C[C-]1C#N',\n",
    "'C[NH2+]C[C-]1OC(=O)C=C1',\n",
    "'[NH3+]C[C-]1OC(=O)C=C1',\n",
    "'[NH3+]CC[C-]1OC(=O)C=C1',\n",
    "'CN1C=C[C-](C#N)C1=[NH2+]',\n",
    "'NC1=[NH+][C-](C=O)C(=N)N1',\n",
    "'NC1=CC(=[NH2+])O[C-]1C=O',\n",
    "'CC1=CC(=[NH2+])O[C-]1C#N',\n",
    "'[NH3+]C1=CC(=O)O[C-]1C=O',\n",
    "'NC1=CC(=O)O[C-]1C[NH3+]',\n",
    "'NC(=[NH2+])[C-]1OC(=O)C=C1',\n",
    "'C[NH2+]C[C-]1NC=CC1=O',\n",
    "'CC1=C[C-](C#N)C(=[NH2+])N1',\n",
    "'NC(=[NH2+])[C-]1NC=CC1=O',\n",
    "'C[NH+]=C1NC=C[C-]1C#N',\n",
    "'[NH2+]=C1OC(=O)O[C-]1C=O',\n",
    "'CC1=CC(=[NH2+])O[C-]1C=O',\n",
    "'[NH2+]=C1O[C-](C=C1)C#N',\n",
    "'CC1=CC(=[NH2+])O[C-]1C=O',\n",
    "'NC(=[NH2+])[C-]1N=COC1=O',\n",
    "'NC1=[NH+][C-](C#N)C(=O)N1',\n",
    "'CC1=C[C-](OC1=[NH2+])C#N',\n",
    "'CC1=C[C-](OC1=[NH2+])C=O',\n",
    "'N=C1NC(=[NH2+])N[C-]1C#N',\n",
    "'NC1=[NH+][C-](C#N)C(=N)N1',\n",
    "'CC(=O)[C-]1OC(=[NH2+])C=C1',\n",
    "'CC1=CC(=O)O[C-]1C[NH3+]',\n",
    "'O=C1C2OC1C1CC2C1',\n",
    "'O=C1C2OC1C1CC2O1',\n",
    "'OC1C2NC1C1CC2O1',\n",
    "'OC1C2CC1C1CC2C1',\n",
    "'C1C2OC1C1CC2O1',\n",
    "'C1C2CC1C1CC(C2)O1',\n",
    "'CC1C2OC1C1CC2O1',\n",
    "'O=C1C2NC1C1CC2C1',\n",
    "'C1C2CC1C1CC2O1',\n",
    "'C1C2CC1C1CC2C1',\n",
    "'O=C1C2NC1C1CC2O1',\n",
    "'O=C1C2CC1C1CC2C1',\n",
    "'C1C2CC1C1CC(C1)O2',\n",
    "'CC1C2CC1C1CC2O1',\n",
    "'C1C2CC1C1CC(C1)C2',\n",
    "'OC1C2OC1C1CC2C1',\n",
    "'CC1C2CC1C1CC2C1',\n",
    "'C1C2CC3CC(O3)C1O2',\n",
    "'OC1C2CC1C1CC2O1',\n",
    "'O=C1C2CC1C1CC2O1',\n",
    "'CC1C2OC1C1CC2C1',\n",
    "'CN1C2CC1C1CC2O1',\n",
    "'OC1C2OC1C1CC2O1',\n",
    "'C', 'N', 'O']"
   ]
  },
  {
   "cell_type": "code",
   "execution_count": 23,
   "id": "3ae7f3ad",
   "metadata": {},
   "outputs": [
    {
     "name": "stdout",
     "output_type": "stream",
     "text": [
      "Original data shape: (60, 3)\n",
      "Data shape after filtering null rows: (46, 3)\n",
      "Data shape after filtering out invalid mols: (46, 3)\n"
     ]
    }
   ],
   "source": [
    "# clean chem_data\n",
    "print('Original data shape:', chem_data.shape)\n",
    "\n",
    "# drop na rows\n",
    "chem_data = chem_data.dropna().reset_index(drop=True)\n",
    "print('Data shape after filtering null rows:', chem_data.shape)\n",
    "\n",
    "# remove invalid molecules\n",
    "chem_data = chem_data[~chem_data['SMILES'].isin(invalid_mols)]\n",
    "print('Data shape after filtering out invalid mols:', chem_data.shape)"
   ]
  },
  {
   "cell_type": "code",
   "execution_count": 29,
   "id": "868e2282",
   "metadata": {},
   "outputs": [
    {
     "name": "stdout",
     "output_type": "stream",
     "text": [
      "Original data shape: (350, 3)\n",
      "Data shape after filtering null rows: (350, 3)\n",
      "Data shape after filtering out invalid mols: (350, 3)\n"
     ]
    }
   ],
   "source": [
    "# clean hopv15 data\n",
    "print('Original data shape:', hopv15.shape)\n",
    "\n",
    "# uppercase SMILES\n",
    "#hopv15['SMILES'] = hopv15['SMILES'].str.upper()\n",
    "\n",
    "# drop na rows\n",
    "hopv15 = hopv15.dropna().reset_index(drop=True)\n",
    "print('Data shape after filtering null rows:', hopv15.shape)\n",
    "\n",
    "# remove invalid molecules\n",
    "hopv15 = hopv15[~hopv15['SMILES'].isin(invalid_mols)]\n",
    "print('Data shape after filtering out invalid mols:', hopv15.shape)"
   ]
  },
  {
   "cell_type": "code",
   "execution_count": 30,
   "id": "801e34f4",
   "metadata": {},
   "outputs": [
    {
     "name": "stdout",
     "output_type": "stream",
     "text": [
      "Original data shape: (133845, 3)\n",
      "Data shape after filtering null rows: (133845, 3)\n",
      "Data shape after filtering out invalid mols: (133832, 3)\n"
     ]
    }
   ],
   "source": [
    "# clean qm9 data\n",
    "print('Original data shape:', qm9.shape)\n",
    "\n",
    "# drop na rows\n",
    "qm9 = qm9.dropna().reset_index(drop=True)\n",
    "print('Data shape after filtering null rows:', qm9.shape)\n",
    "\n",
    "# remove invalid molecules\n",
    "qm9 = qm9[~qm9['SMILES'].isin(invalid_mols)]\n",
    "print('Data shape after filtering out invalid mols:', qm9.shape)"
   ]
  },
  {
   "cell_type": "code",
   "execution_count": 45,
   "id": "0ee0e9a5",
   "metadata": {},
   "outputs": [],
   "source": [
    "# split test ratios\n",
    "ratios = [0.5, 0.3, 0.1] # chem_data, hopv15, and qm9\n",
    "\n",
    "# split data\n",
    "train_data, test_data = [], []\n",
    "for d, r in zip([chem_data, hopv15, qm9], ratios):\n",
    "    train, test = train_test_split(d, test_size=r, random_state=1)\n",
    "    train_data.append(train)\n",
    "    test_data.append(test)"
   ]
  },
  {
   "cell_type": "code",
   "execution_count": 46,
   "id": "2a7112cb",
   "metadata": {},
   "outputs": [
    {
     "name": "stdout",
     "output_type": "stream",
     "text": [
      "Shape: train_data (120716, 3) and test_data (13512, 3)\n"
     ]
    }
   ],
   "source": [
    "# merge data\n",
    "train_data = pd.concat(train_data).reset_index(drop=True)\n",
    "test_data = pd.concat(test_data).reset_index(drop=True)\n",
    "\n",
    "# display train and test data shape\n",
    "print('Shape: train_data {} and test_data {}'.format(train_data.shape, test_data.shape))"
   ]
  },
  {
   "cell_type": "code",
   "execution_count": 47,
   "id": "245525ef",
   "metadata": {},
   "outputs": [],
   "source": [
    "# save data\n",
    "train_data.to_csv('trio_chem_supervised_train_data.csv', index=False)\n",
    "test_data.to_csv('trio_chem_supervised_test_data.csv', index=False)"
   ]
  },
  {
   "cell_type": "code",
   "execution_count": null,
   "id": "8968ea7f",
   "metadata": {},
   "outputs": [],
   "source": []
  }
 ],
 "metadata": {
  "kernelspec": {
   "display_name": "Python 3 (ipykernel)",
   "language": "python",
   "name": "python3"
  },
  "language_info": {
   "codemirror_mode": {
    "name": "ipython",
    "version": 3
   },
   "file_extension": ".py",
   "mimetype": "text/x-python",
   "name": "python",
   "nbconvert_exporter": "python",
   "pygments_lexer": "ipython3",
   "version": "3.8.8"
  }
 },
 "nbformat": 4,
 "nbformat_minor": 5
}
